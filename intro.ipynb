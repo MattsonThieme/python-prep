{
 "cells": [
  {
   "cell_type": "markdown",
   "id": "short-analysis",
   "metadata": {},
   "source": [
    "# Welcome to python!\n"
   ]
  },
  {
   "cell_type": "markdown",
   "id": "corporate-wilson",
   "metadata": {},
   "source": [
    "First things first: when you run a python program, python will read and execute your code line by line starting at the top of the file. This means that, outside of syntax errors, you will find most of your bugs at 'runtime' when the program reaches an instruction it doesn't know how to handle. It will give you an error message that will tell you which line is broken and help you figure out what needs to be fixed.\n",
    "\n",
    "This notebook will review the following:\n",
    "\n",
    "### Data structures\n",
    "\n",
    "    - Int, float, str\n",
    "    - List\n",
    "    - Set\n",
    "    - Array\n",
    "    - Dict\n",
    "\n",
    "### Functions\n",
    "\n",
    "    - Return types\n",
    "    - Signature\n",
    "    - Calling\n",
    "\n",
    "### Importing\n",
    "\n",
    "    - Libraries\n",
    "    - Your code\n",
    "\n",
    "### Libraries\n",
    "\n",
    "    - Numpy\n",
    "    - Pandas\n",
    "    - Matplotlib\n",
    "    - sklearn\n",
    "    - seaborn\n",
    "\n",
    "### Using the terminal\n",
    "\n",
    "    - Common commands (don't worry about memorizing these right now)\n",
    "\n",
    "### Conda\n",
    "\n",
    "    - Download and install\n",
    "    - New environment\n",
    "    - Entering/exiting\n",
    "    - View environments\n",
    "    - View installed packages\n",
    "\n",
    "### Workflow\n",
    "\n",
    "    - Standard flow\n",
    "    - Writing your first programs\n",
    "    - Larger projects\n",
    "\n",
    "### Best practices\n",
    "\n",
    "    - Comments\n",
    "    - Variables\n",
    "    - Function length\n",
    "    - Type hints\n",
    "\n",
    "### Pycharm (forthcoming)\n",
    "\n",
    "    - Creating a project\n",
    "    - Creating a configuration\n",
    "    - Breakpoints\n",
    "    - Debugging\n",
    "\n",
    "### Jupyter (forthcoming)\n",
    "\n",
    "    - Opening a notebook\n",
    "    - Running a cell\n",
    "\n",
    "### Objects (actually skipped this one for now)\n",
    "\n",
    "    - Init\n",
    "    - Class variables\n",
    "    - Interfaces\n",
    "    \n",
    "### Computer basics (forthcoming)\n",
    "\n",
    "    - Core utilization and memory\n",
    "\n",
    "\n",
    "This notebook itself is a jupyter notebook. It's a way of running python code in little snippets that is useful when you want to maintain the state of the program without rerunning it. This will make more sense later but for now it is a useful way to communicate ideas and see the syntax in its native habitat.\n",
    "\n",
    "\n",
    "\n",
    "Now, let's get into it!"
   ]
  },
  {
   "cell_type": "markdown",
   "id": "thermal-messenger",
   "metadata": {},
   "source": [
    "***\n",
    "\n",
    "\n",
    "# Data structures\n"
   ]
  },
  {
   "cell_type": "code",
   "execution_count": 28,
   "id": "corrected-publication",
   "metadata": {},
   "outputs": [
    {
     "ename": "ValueError",
     "evalue": "invalid literal for int() with base 10: 'a'",
     "output_type": "error",
     "traceback": [
      "\u001b[0;31m---------------------------------------------------------------------------\u001b[0m",
      "\u001b[0;31mValueError\u001b[0m                                Traceback (most recent call last)",
      "\u001b[0;32m<ipython-input-28-516cdf0ec51c>\u001b[0m in \u001b[0;36m<module>\u001b[0;34m\u001b[0m\n\u001b[1;32m     12\u001b[0m \u001b[0mg\u001b[0m \u001b[0;34m=\u001b[0m \u001b[0mstr\u001b[0m\u001b[0;34m(\u001b[0m\u001b[0mb\u001b[0m\u001b[0;34m)\u001b[0m  \u001b[0;31m# Convert b to a string\u001b[0m\u001b[0;34m\u001b[0m\u001b[0;34m\u001b[0m\u001b[0m\n\u001b[1;32m     13\u001b[0m \u001b[0mh\u001b[0m \u001b[0;34m=\u001b[0m \u001b[0mint\u001b[0m\u001b[0;34m(\u001b[0m\u001b[0mc\u001b[0m\u001b[0;34m)\u001b[0m  \u001b[0;31m# Convert c to an int, this will round to the nearest int\u001b[0m\u001b[0;34m\u001b[0m\u001b[0;34m\u001b[0m\u001b[0m\n\u001b[0;32m---> 14\u001b[0;31m \u001b[0mi\u001b[0m \u001b[0;34m=\u001b[0m \u001b[0mint\u001b[0m\u001b[0;34m(\u001b[0m\u001b[0ma\u001b[0m\u001b[0;34m)\u001b[0m  \u001b[0;31m# This won't work'\u001b[0m\u001b[0;34m\u001b[0m\u001b[0;34m\u001b[0m\u001b[0m\n\u001b[0m\u001b[1;32m     15\u001b[0m \u001b[0;34m\u001b[0m\u001b[0m\n\u001b[1;32m     16\u001b[0m \u001b[0;31m# The following is the error message:\u001b[0m\u001b[0;34m\u001b[0m\u001b[0;34m\u001b[0m\u001b[0;34m\u001b[0m\u001b[0m\n",
      "\u001b[0;31mValueError\u001b[0m: invalid literal for int() with base 10: 'a'"
     ]
    }
   ],
   "source": [
    "# Anything following a # is a comment and will not be run by the python interpreter\n",
    "\n",
    "# Python will automatically assign the value of a variable to a type (int, string, float) when you create it\n",
    "a = 'a'     # str\n",
    "b = 1       # integer\n",
    "c = 1.0     # float, or decimal value\n",
    "d = (a, b)  # tuple\n",
    "e = False   # boolean\n",
    "f = None    # N/A\n",
    "\n",
    "# You can manually convert from one data type to another (if it makes sense)\n",
    "g = str(b)  # Convert b to a string\n",
    "h = int(c)  # Convert c to an int, this will round to the nearest int\n",
    "i = int(a)  # This won't work'\n",
    "\n",
    "# The following is the error message:"
   ]
  },
  {
   "cell_type": "markdown",
   "id": "smaller-roots",
   "metadata": {},
   "source": [
    "### Lists\n",
    "\n",
    "All python iterators are zero-indexed, meaning the first element is at index 0"
   ]
  },
  {
   "cell_type": "code",
   "execution_count": 18,
   "id": "capital-formation",
   "metadata": {},
   "outputs": [
    {
     "name": "stdout",
     "output_type": "stream",
     "text": [
      "['a', 1, True]\n"
     ]
    }
   ],
   "source": [
    "# Create an empty list\n",
    "lst = []\n",
    "\n",
    "# Add an element to the end. A list can hold multiple data types\n",
    "lst.append('a')\n",
    "lst.append(1)\n",
    "lst.append(True)\n",
    "print(lst)"
   ]
  },
  {
   "cell_type": "code",
   "execution_count": 17,
   "id": "dental-prize",
   "metadata": {},
   "outputs": [
    {
     "name": "stdout",
     "output_type": "stream",
     "text": [
      "['b', 'a', 1, True]\n",
      "b\n",
      "['a', 1, True]\n"
     ]
    }
   ],
   "source": [
    "# Add an element to the 0'th index, or the front\n",
    "lst.insert(0, 'b')\n",
    "\n",
    "# Access an element by it's index\n",
    "lst[1]\n",
    "\n",
    "# Get the index of some element\n",
    "lst.index('b')\n",
    "\n",
    "# Remove some element by it's index (this is destructive, as in it mutates the original list, unlike all the \n",
    "# operations shown above)\n",
    "print(lst)\n",
    "print(lst.pop(0))\n",
    "print(lst)\n"
   ]
  },
  {
   "cell_type": "markdown",
   "id": "dietary-methodology",
   "metadata": {},
   "source": [
    "### Arrays\n",
    "\n",
    "Arrays are an efficient way to store data of a uniform shape and type. Think of them like matrices of arbitrary dimension. Python has built-in matrix operators that operate on arrays. The most common array library is called numpy - you'll use this everywhere."
   ]
  },
  {
   "cell_type": "code",
   "execution_count": 15,
   "id": "necessary-motivation",
   "metadata": {},
   "outputs": [
    {
     "name": "stdout",
     "output_type": "stream",
     "text": [
      "[1 2 3 4 5]\n"
     ]
    }
   ],
   "source": [
    "import numpy as np\n",
    "\n",
    "# 1D array from a list\n",
    "x = np.array([1, 2, 3, 4, 5])\n",
    "print(x)"
   ]
  },
  {
   "cell_type": "code",
   "execution_count": 14,
   "id": "connected-profile",
   "metadata": {},
   "outputs": [
    {
     "name": "stdout",
     "output_type": "stream",
     "text": [
      "[[1 2 3]\n",
      " [4 5 6]\n",
      " [7 8 9]]\n"
     ]
    }
   ],
   "source": [
    "# 2D array from a list\n",
    "y = np.array([[1, 2, 3], [4, 5, 6], [7, 8, 9]])\n",
    "print(y)"
   ]
  },
  {
   "cell_type": "code",
   "execution_count": 13,
   "id": "backed-utility",
   "metadata": {},
   "outputs": [
    {
     "name": "stdout",
     "output_type": "stream",
     "text": [
      "[2 5 8]\n"
     ]
    }
   ],
   "source": [
    "# Get the shapes of an array\n",
    "y.shape\n",
    "\n",
    "# Get the sum of the array\n",
    "y.sum()\n",
    "\n",
    "# Access array elements with []\n",
    "\n",
    "# Get the third element of x\n",
    "x[2]\n",
    "\n",
    "# Get the center element of y\n",
    "y[1, 1]\n",
    "\n",
    "# Use the : operator to slice arrays\n",
    "\n",
    "# Get only the first column of y.\n",
    "# This is saying, 'get all rows and column 1'\n",
    "print(y[:, 1])\n"
   ]
  },
  {
   "cell_type": "code",
   "execution_count": 12,
   "id": "printable-consultancy",
   "metadata": {},
   "outputs": [
    {
     "name": "stdout",
     "output_type": "stream",
     "text": [
      "[[1 2 3]\n",
      " [4 5 6]\n",
      " [7 8 9]]\n"
     ]
    }
   ],
   "source": [
    "# Notice that accessing array elements does not modify the array\n",
    "print(y)"
   ]
  },
  {
   "cell_type": "code",
   "execution_count": 11,
   "id": "adjustable-facility",
   "metadata": {},
   "outputs": [
    {
     "name": "stdout",
     "output_type": "stream",
     "text": [
      "[[ 0  4 10]\n",
      " [ 0  7 16]]\n",
      "(2, 3)\n"
     ]
    }
   ],
   "source": [
    "# Get last element of the second row of y\n",
    "y[1, -1]\n",
    "\n",
    "# Get the third element onward in x\n",
    "x[2:]\n",
    "\n",
    "# Get the elements from the third from the end to the end\n",
    "x[-3:]\n",
    "\n",
    "# Multiplication\n",
    "\n",
    "# If your arrays are the appropriates sizes, you can multiply them\n",
    "\n",
    "a = np.array([0, 1, 2])\n",
    "b = np.array([[3, 4, 5], [6, 7, 8]])\n",
    "c = np.multiply(a, b)\n",
    "print(c)\n",
    "print(c.shape)"
   ]
  },
  {
   "cell_type": "markdown",
   "id": "collective-beatles",
   "metadata": {},
   "source": [
    "### Dictionaries\n",
    "\n",
    "Dictionaries hold data as key: value pairs. The keys and the values can be any data type."
   ]
  },
  {
   "cell_type": "code",
   "execution_count": 19,
   "id": "right-lover",
   "metadata": {},
   "outputs": [
    {
     "name": "stdout",
     "output_type": "stream",
     "text": [
      "{'a': 1, 'b': 2, 'c': 3}\n"
     ]
    }
   ],
   "source": [
    "# Define a dictionary\n",
    "d = {'a': 1, 'b': 2}\n",
    "\n",
    "# Access the values by querying the dict using the corresponding key\n",
    "d['a']\n",
    "\n",
    "# Add dictionary elements by just assigning them\n",
    "d['c'] = 3\n",
    "print(d)"
   ]
  },
  {
   "cell_type": "markdown",
   "id": "beautiful-cooperative",
   "metadata": {},
   "source": [
    "You can iterate over any of these iterators by using a `for` loop using the following syntax"
   ]
  },
  {
   "cell_type": "code",
   "execution_count": 20,
   "id": "careful-typing",
   "metadata": {},
   "outputs": [
    {
     "name": "stdout",
     "output_type": "stream",
     "text": [
      "1\n",
      "2\n",
      "3\n",
      "4\n",
      "5\n",
      "Index 0, Element = 1\n",
      "Index 1, Element = 2\n",
      "Index 2, Element = 3\n",
      "Index 3, Element = 4\n",
      "Index 4, Element = 5\n",
      "1 2\n",
      "3 4\n",
      "5 6\n"
     ]
    }
   ],
   "source": [
    "lst = [1, 2, 3, 4, 5]\n",
    "\n",
    "# Iterate over each element in the list\n",
    "for elem in lst:\n",
    "    print(elem)\n",
    "\n",
    "# ^ Note: elem is just a variable name and can be anything like, i, j, etc.    \n",
    "\n",
    "# Enumerate lets you iterate while keeping track of the current index\n",
    "for i, elem in enumerate(lst):\n",
    "    print(\"Index {}, Element = {}\".format(i, elem))  # This is how you can insert variable values into a string\n",
    "\n",
    "# You can also iterate over a list of tuples\n",
    "lst_tuples = [(1, 2), (3, 4), (5, 6)]\n",
    "for a, b in lst_tuples:\n",
    "    print(a, b)\n",
    "\n"
   ]
  },
  {
   "cell_type": "code",
   "execution_count": 21,
   "id": "worse-structure",
   "metadata": {},
   "outputs": [
    {
     "name": "stdout",
     "output_type": "stream",
     "text": [
      "0\n",
      "2\n",
      "4\n",
      "6\n",
      "8\n"
     ]
    }
   ],
   "source": [
    "# To create a list on the fly, use the range function\n",
    "start = 0\n",
    "stop = 10\n",
    "step = 2\n",
    "for i in range(start, stop, step):\n",
    "    print(i)"
   ]
  },
  {
   "cell_type": "markdown",
   "id": "personalized-blackjack",
   "metadata": {},
   "source": [
    "***\n",
    "\n",
    "# Functions\n",
    "\n",
    "To organize your code, you'll want to collect related ideas into meaningful functions"
   ]
  },
  {
   "cell_type": "code",
   "execution_count": 25,
   "id": "blank-phase",
   "metadata": {},
   "outputs": [
    {
     "name": "stdout",
     "output_type": "stream",
     "text": [
      "13\n"
     ]
    }
   ],
   "source": [
    "# Lets define a function that returns the sum of the square of two numbers\n",
    "\n",
    "def sum_squares(a, b):\n",
    "    \n",
    "    sq = a**2 + b**2\n",
    "    \n",
    "    return sq\n",
    "\n",
    "# Now, we can use this to get the value whenever we want\n",
    "# Below, we say that we 'call' the square function with 'arguments' 2 and 3\n",
    "print(sum_squares(2, 3))\n",
    "\n",
    "# Note: python reads your code line by line from top to bottom, so you'll \n",
    "# need to define your functions above where you call them\n"
   ]
  },
  {
   "cell_type": "code",
   "execution_count": 26,
   "id": "desirable-bidder",
   "metadata": {},
   "outputs": [
    {
     "name": "stdout",
     "output_type": "stream",
     "text": [
      "3.605551275463989\n"
     ]
    }
   ],
   "source": [
    "# We can also call functions inside of other functions\n",
    "# Maybe we want a new function that takes the square root of the sum of squares\n",
    "\n",
    "def sqrt_sum_squares(a, b):\n",
    "    \n",
    "    # First, get the sum of squares by calling our own function\n",
    "    x = sum_squares(2, 3)\n",
    "    \n",
    "    # Then take the square root\n",
    "    sqrt = np.sqrt(x)\n",
    "    \n",
    "    return sqrt\n",
    "\n",
    "\n",
    "# Now, we call the sqrt_sum_squares function\n",
    "print(sqrt_sum_squares(2, 3))"
   ]
  },
  {
   "cell_type": "markdown",
   "id": "eastern-valuable",
   "metadata": {},
   "source": [
    "***\n",
    "\n",
    "# Objects\n",
    "\n",
    "Objects are an important part of writing larger python software systems but for now you will do fine to just write functions so in the interest of time I'm going to leave this for another lesson."
   ]
  },
  {
   "cell_type": "markdown",
   "id": "common-president",
   "metadata": {},
   "source": [
    "***\n",
    "\n",
    "# Libraries\n",
    "\n",
    "One of the primary benefits of python is the enormous ecosystem of code and libraries at your disposal. Some of the most important ones are:\n",
    "\n",
    "[Numpy](https://numpy.org): Super performant, nuts and bolts computational tools for executing efficient mathematical operations and operating on raw data (arrays, mostly).\n",
    "\n",
    "[SciPy](https://scipy.org): Higher level than numpy, SciPy provides algorithms for larger scientific concepts like optimization, integration, interpolation, eigenvalue problems, algebraic equations, differential equations, statistics and many more.\n",
    "\n",
    "[Pandas](https://pandas.pydata.org): Fast and memory-efficient way of ingesting large databases like csv files. The API (meaning Pandas' built in functions that you can use) is extremely intuitive and the pandas backend handles all the data transformations for you. Use this library when working with data.\n",
    "\n",
    "[Matplotlib](https://matplotlib.org): Workhorse of plotting. Make 1D, 2D, 3D, 4D (videos) easily. Most figures you want to make, you can make with matplotlib. For fancier plotting, you can also try [Seaborn](https://seaborn.pydata.org)\n",
    "\n",
    "[scikit-learn](https://scikit-learn.org/stable/): Python's original learning-models-from-data library. Has intuitive functions for classifying data, clustering, dimensionality reduction, PCA, linear regression and so much more. Start here if you want to fit a model to data.\n",
    "\n",
    "\n",
    "## Importing\n",
    "\n",
    "To make these available to your python script, you need to import them. For the preceeding packages, you would import them (after you've installed them) like this at the top of your script:"
   ]
  },
  {
   "cell_type": "code",
   "execution_count": 1,
   "id": "above-frontier",
   "metadata": {},
   "outputs": [],
   "source": [
    "import numpy as np\n",
    "import scipy as scp\n",
    "import pandas as pd\n",
    "import matplotlib.pyplot as plt\n",
    "import sklearn"
   ]
  },
  {
   "cell_type": "markdown",
   "id": "hawaiian-portuguese",
   "metadata": {},
   "source": [
    "You then access their functionality in your code by calling them using their assigned variable names. For example get the standard deviation of the values in a list with `np.std(your_list)` or load a csv file into a pandas dataframe using `pd.read_csv(your_file_path)`.\n",
    "\n",
    "You can also import your own code. If you have two files in the same directory, say `main.py` and `utils.py` you can put your boring or complex utility functions in the file `utils.py` and then import them into `main.py` using the same syntax: `import utils`. Then you can call those functions with something like `utils.my_boring_function(arg_1, arg_2)`. This helps to keep your main script cleaner and easier to read.\n",
    "\n",
    "## Installation\n",
    "\n",
    "You can install these libararies easily from the command line in iTerm. I'll show you how to do this the right way in the following section using another library called `conda`.\n",
    "\n",
    "But first..."
   ]
  },
  {
   "cell_type": "markdown",
   "id": "major-personal",
   "metadata": {},
   "source": [
    "***\n",
    "\n",
    "# Using the terminal\n",
    "\n",
    "Before we install conda, a quick review of the basics of using a terminal window (also called a shell). The terminal is just another way of interacting with the computer and it's file systems. You can browse files just like you do in windows, but you can also do things like download packages and pages from the internet, push your code to remote repositories (like github), communicate with other computers using a tool called `ssh` and run programs you've written. The terminal looks like the scary matrix but it's going to become your best friend very quickly.\n",
    "\n",
    "When you open the terminal you're presented with an empty line, this is the command line, through which you will interact with the computer.\n",
    "\n",
    "Here are some common commands:\n",
    "\n",
    "`$: pwd`      'print working directory', shows you where you are\n",
    "\n",
    "`$: ls -lrt`  prints the files in the current directory along with some additional info\n",
    "\n",
    "`$: cd folder_name` changes your directory into the directory folder_name\n",
    "\n",
    "`$: cd ..` changes your directory up a level into the parent directory\n",
    "\n",
    "`$: history` shows you list of the commands you've recently entered\n",
    "\n",
    "`$: cat file.txt` prints the contents of a file file.txt line by line\n",
    "\n",
    "`$: wget target_url` pulls the file located at target_url down to the current directory on your machine\n",
    "\n",
    "`$: mv file.txt /target/folder` move some file file.txt to another folder /target/folder\n",
    "\n",
    "`$: mv file.txt new_name.txt` rename an existing file\n",
    "\n",
    "`$: cp file.txt file_copy.txt` create a copy of a file with another name\n",
    "\n",
    "`$: rm file.txt` delete a file file.txt (note, this is irreversible)\n",
    "\n",
    "`$: mkdir new_folder` make a new directory in the current directory\n",
    "\n",
    "`$: python script.py` run a python file\n",
    "\n",
    "Don't worry too much about memorizing all these right now. As you get started, it is just good to know what kinds of things you can do in the terminal, so use this list as a quick reference as you practice and familiarize yourself with the terminal. Exciting times!\n",
    "\n",
    "Ok, now on to Conda."
   ]
  },
  {
   "cell_type": "markdown",
   "id": "simplified-reach",
   "metadata": {},
   "source": [
    "***\n",
    "\n",
    "# Conda\n",
    "\n",
    "When writing and executing python scripts, it is crucial that your script has access to the right libraries _and_ the right versions of those libraries. For this to happen, these libraries must be installed and accessible to the program. At first, it will be enough to just install them in the 'global' environment, i.e. just install them on your computer via the command line so that every python script you ever write has access to them. \n",
    "\n",
    "While this is convenient at first it QUICKLY becomes a problem as you write more programs that have different dependencies and require different versions of this or that library.\n",
    "\n",
    "The solution is a tool called a 'virtual environment'. Virtual environments are much less scary than they sound. They're just like little rooms that you'll fill with tools for a particular task. When you install a software library in a virtual environment, it is like putting a tool in that room. Any python script that you run in some environment has access to only those libraries (tools) you've already installed in that environment (room). Because these are virtual spaces, you can make as many of them as you like and the tools from one will never interfere with the tools from another. Using virtual environments is a clean and easy way to keep your space organized and efficient.\n",
    "\n",
    "I recommend you use a virtual environment manager called `conda`.\n",
    "\n",
    "### Installation (one time)\n",
    "\n",
    "To install conda, run the following commands from your home directory:\n",
    "\n",
    "In iTerm, cd (change directory) into your home directory and download the miniconda installer\n",
    "\n",
    "`$: cd ~/`\n",
    "\n",
    "`$: wget https://repo.anaconda.com/miniconda/Miniconda3-latest-MacOSX-x86_64.sh`\n",
    "\n",
    "Run the installer using bash and say `y` for yes to agree to any prompts it gives you\n",
    "\n",
    "`$: bash Miniconda3-latest-MacOSX-x86_64.sh`\n",
    "\n",
    "Once complete, restart your terminal using the following command (don't worry too much about what this means, it is just reinitializing the state of your terminal so that it recognizes the newly installed conda package)\n",
    "\n",
    "`$: source .bashrc`\n",
    "\n",
    "Now, conda is installed and ready to use, and you can make sure using the following command, which will show the location of the conda executable:\n",
    "\n",
    "`$: which conda`\n",
    "\n",
    "### Creating a new conda environment\n",
    "\n",
    "To create a new environment,\n",
    "\n",
    "`$: conda create -n env_name python=3`\n",
    "\n",
    "This will create a new environment called `env_name` and pre-install python3. It will ask you if you want to proceed with `Proceed ([y]/n)?` to which you type `y` and hit enter.\n",
    "\n",
    "Once complete, you can enter the new environment with the following. You can see that you are in the new environment because `(env_name)` is prepended before your usual terminal alias.\n",
    "\n",
    "`$: conda activate env_name`\n",
    "\n",
    "`(env_name) $: `\n",
    "\n",
    "\n",
    "Now, any library you install through the command line will be available _only_ in this environment `env_name`. And when you run a python script, that script will only have access to the libraries installed in this virtual environment. \n",
    "\n",
    "`(env_name) $: python script.py`\n",
    "\n",
    "Now, while you're in the environment, you can install all the libraries I mentioned above using either the `pip` library (most common for python) or `conda` with a single command:\n",
    "\n",
    "`(env_name) $: pip install -U numpy scipy pandas matplotlib scikit-learn`\n",
    "\n",
    "From here, you can run your python scripts as you like. \n",
    "\n",
    "When you're ready to leave the environment, use the following command. Similarly, you'll know that you've exited the environment when `env_name` does not prepend your usual terminal alias:\n",
    "\n",
    "`(env_name) $: conda deactivate`\n",
    "\n",
    "`$: `\n",
    "\n",
    "### Viewing conda environments\n",
    "\n",
    "To view all your conda environments use\n",
    "\n",
    "`$: conda env list`\n",
    "\n",
    "\n",
    "To view all the installed libraries within a conda environment, activate the environment then list the libraries:\n",
    "\n",
    "`$: conda activate env_name`\n",
    "\n",
    "`(env_name) $: conda list`\n",
    "\n"
   ]
  },
  {
   "cell_type": "markdown",
   "id": "a7bffc90",
   "metadata": {},
   "source": [
    "***\n",
    "\n",
    "# Workflow\n",
    "\n",
    "Now, you have more than everything you need to start writing your first python script. To contextualize it a bit more, here is how my usual programming flow would proceed:\n",
    "\n",
    "1. Have an idea\n",
    "2. Find data\n",
    "3. Create a conda environment\n",
    "4. Enter that environment\n",
    "5. Create a python script\n",
    "6. Start coding, debugging, and installing packages in the virtual environment as needed\n",
    "7. Get tired enough to start making mistakes\n",
    "8. Try to push through it\n",
    "9. Diminishing returns\n",
    "10. Save everything\n",
    "11. Exit the conda environment\n",
    "12. Background process the code\n",
    "\n",
    "Ok, joking aside, steps 1-6 and 10-11 are the usual flow. \n",
    "\n",
    "For now, you can write your python scripts in any text editor you like and run them through the command line using `python my_script.py`. To debug, you can use print statements like I have in this jupyter notebook. When running the script from the terminal, print statements in the python script will also be printed to the terminal.\n",
    "\n",
    "^ This is a rather simplistic and clunky way to get started, but I don't want to burden your mind with managing a new programming language _and_ and new IDE (interactive development environment). However, in the coming weeks, we can meet again and review how to use an IDE called PyCharm that will make you 5X more productive overnight. Get excited.\n",
    "\n",
    "***\n",
    "\n",
    "# Best Practices\n",
    "\n",
    "### Comments\n",
    "\n",
    "It is crucial to comment your code well even if no one else is going to read it. Your future self will not remember why some function is so abstruse and jump to the conclusion it's author must be oh-so-very obtuse! So be kind to your future and past (current) self and document things. \n",
    "\n",
    "Here is an example from a function I wrote a while ago. Some of these lines would be hard to read without the higher level comments."
   ]
  },
  {
   "cell_type": "code",
   "execution_count": null,
   "id": "5d5bd212",
   "metadata": {},
   "outputs": [],
   "source": [
    "# Pre-process the financial data\n",
    "def gen_data(frame):\n",
    "    \n",
    "    # Replace SID with node index\n",
    "    ids = pd.unique(frame['sid'])\n",
    "    for i, sid in enumerate(ids):\n",
    "        frame['sid'].replace(sid, i, inplace=True)\n",
    "\n",
    "    # Only keep non-NaN ints/floats - not optimal, need to handle these\n",
    "    frame = frame.select_dtypes(exclude=['object', 'string']).dropna(axis='columns')\n",
    "\n",
    "    # Fill any remaining NaN values - may not need this\n",
    "    findata = findata.fillna(0)\n",
    "\n",
    "    # Normalize float columns across the time dimension\n",
    "    cols = frame.columns.values\n",
    "    dtypes = list(frame.dtypes)\n",
    "    cols = [name for name, dtype in list(zip(cols, dtypes)) if dtype in ['float32', 'float64']]\n",
    "    normed = frame.groupby('sid')[cols].transform(lambda x: (x - x.min()) / (x.max() - x.min()))\n",
    "    \n",
    "    return normed"
   ]
  },
  {
   "cell_type": "markdown",
   "id": "6d7a5a9a",
   "metadata": {},
   "source": [
    "### Variables\n",
    "\n",
    "When naming your variables, make sure they are descriptive so you can tell what they are later. The norm for python is to use underscores like\n",
    "\n",
    "`num_interesting_genes`\n",
    "\n",
    "`rat_health_status`\n",
    "\n",
    "`rat_emotional_health_status`\n",
    "\n",
    "etc.\n",
    "\n",
    "### Function length\n",
    "\n",
    "Functions should not be too long or they risk becoming unreadable. They should be somewhere over 1 line, 20 would be long, and 100 would be too long. As you go, try to break up the code into discrete pieces with understandable purposes, then put those pieces into their own functions. It makes your code much more readable and easier to understand."
   ]
  },
  {
   "cell_type": "markdown",
   "id": "8b29a9cd",
   "metadata": {},
   "source": [
    "***\n",
    "\n",
    "# Next\n",
    "\n",
    "* PyCharm\n",
    "* Jupyter\n",
    "* Creating python objects"
   ]
  },
  {
   "cell_type": "code",
   "execution_count": null,
   "id": "f7401d08",
   "metadata": {},
   "outputs": [],
   "source": []
  }
 ],
 "metadata": {
  "kernelspec": {
   "display_name": "Python 3 (ipykernel)",
   "language": "python",
   "name": "python3"
  },
  "language_info": {
   "codemirror_mode": {
    "name": "ipython",
    "version": 3
   },
   "file_extension": ".py",
   "mimetype": "text/x-python",
   "name": "python",
   "nbconvert_exporter": "python",
   "pygments_lexer": "ipython3",
   "version": "3.9.7"
  }
 },
 "nbformat": 4,
 "nbformat_minor": 5
}
